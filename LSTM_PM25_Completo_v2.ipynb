{
 "cells": [
  {
   "cell_type": "markdown",
   "id": "8ac00627",
   "metadata": {},
   "source": [
    "# Predicción de MP2.5 con LSTM y features enriquecidas"
   ]
  },
  {
   "cell_type": "code",
   "execution_count": null,
   "id": "7c28b16e",
   "metadata": {},
   "outputs": [],
   "source": [
    "\n",
    "import numpy as np\n",
    "import pandas as pd\n",
    "from sklearn.preprocessing import StandardScaler\n",
    "from tensorflow.keras.preprocessing.sequence import TimeseriesGenerator\n",
    "from tensorflow.keras.models import Sequential\n",
    "from tensorflow.keras.layers import LSTM, Dense, Dropout\n",
    "from tensorflow.keras.callbacks import EarlyStopping, ReduceLROnPlateau, ModelCheckpoint\n",
    "import matplotlib.pyplot as plt\n"
   ]
  },
  {
   "cell_type": "markdown",
   "id": "9f5e99f4",
   "metadata": {},
   "source": [
    "## Carga de datos"
   ]
  },
  {
   "cell_type": "code",
   "execution_count": null,
   "id": "3c2d46df",
   "metadata": {},
   "outputs": [],
   "source": [
    "\n",
    "def convertir_fechas(df):\n",
    "    df['Timestamp_Pronostico'] = pd.to_datetime(df['Timestamp_Pronostico'])\n",
    "    df['Fecha'] = pd.to_datetime(df['Fecha']).dt.date\n",
    "    return df\n",
    "\n",
    "pronostico_met_df = pd.concat([\n",
    "    pd.read_csv('pronostico_consolidado_2022_Curico.csv'),\n",
    "    pd.read_csv('pronostico_consolidado_2023_Curico.csv'),\n",
    "    pd.read_csv('pronostico_consolidado_2024_Curico.csv')\n",
    "])\n",
    "\n",
    "pronostico_co_df = pd.concat([\n",
    "    pd.read_csv('pronostico_consolidado_completo_CO_2022.csv'),\n",
    "    pd.read_csv('pronostico_consolidado_completo_CO_2023.csv'),\n",
    "    pd.read_csv('pronostico_consolidado_completo_CO_2024.csv')\n",
    "])\n",
    "\n",
    "pronostico_met_df = convertir_fechas(pronostico_met_df)\n",
    "pronostico_co_df = convertir_fechas(pronostico_co_df)\n",
    "\n",
    "df_pronosticos = pd.merge(\n",
    "    pronostico_met_df,\n",
    "    pronostico_co_df,\n",
    "    on=['Fecha', 'Timestamp_Pronostico', 'Region'],\n",
    "    how='inner'\n",
    ")\n"
   ]
  },
  {
   "cell_type": "code",
   "execution_count": null,
   "id": "8826c862",
   "metadata": {},
   "outputs": [],
   "source": [
    "\n",
    "def limpiar_pronosticos(df, need_cut=True, first_val=-1):\n",
    "    df = df.sort_values(by=\"Timestamp_Pronostico\")\n",
    "    if need_cut:\n",
    "        df = df[4:-3]\n",
    "    df['horizonte'] = [i for i in range(first_val, 4) for _ in range(24)]\n",
    "    return df\n",
    "\n",
    "df_pronosticos = df_pronosticos.groupby('Fecha').apply(limpiar_pronosticos).reset_index(drop=True)\n"
   ]
  },
  {
   "cell_type": "markdown",
   "id": "753660e9",
   "metadata": {},
   "source": [
    "## Carga de observados y cálculo de media móvil"
   ]
  },
  {
   "cell_type": "code",
   "execution_count": null,
   "id": "3c5f3ce3",
   "metadata": {},
   "outputs": [],
   "source": [
    "\n",
    "observados_df = pd.read_csv('datos_observados_curico.csv', index_col=0)[[\n",
    "    'Timestamp', 'TEMP', 'WDIR', 'RHUM', 'WSPD', 'MP25_validado', 'MP25_preliminar', 'MP25_no_validado']]\n",
    "observados_df['Timestamp'] = pd.to_datetime(observados_df['Timestamp'])\n",
    "\n",
    "def mm(df, columna, decimals=0, ventana=24):\n",
    "    def promedio_personalizado(x):\n",
    "        no_nulos = x.dropna()\n",
    "        if len(x) - len(no_nulos) < 7:\n",
    "            return round(no_nulos.mean(), decimals)\n",
    "        else:\n",
    "            return None\n",
    "    return df[columna].rolling(window=ventana, min_periods=1).apply(promedio_personalizado, raw=False)\n",
    "\n",
    "observados_df = observados_df.sort_values('Timestamp')\n",
    "observados_df['MP25_mm'] = mm(observados_df, 'MP25_validado', decimals=2)\n"
   ]
  },
  {
   "cell_type": "markdown",
   "id": "5c912a75",
   "metadata": {},
   "source": [
    "## Generación de features compuestas y temporales"
   ]
  },
  {
   "cell_type": "code",
   "execution_count": null,
   "id": "b85730ee",
   "metadata": {},
   "outputs": [],
   "source": [
    "\n",
    "df_pronosticos['TEMP_WSPD'] = df_pronosticos['TEMP'] * df_pronosticos['WSPD']\n",
    "df_pronosticos['CO_TEMP'] = df_pronosticos['CO(CENTRO)'] * df_pronosticos['TEMP']\n",
    "df_pronosticos['CO_SO2'] = df_pronosticos['CO(CENTRO)'] / (df_pronosticos['SO2(CENTRO)'] + 1e-5)\n",
    "\n",
    "df_pronosticos['hour'] = df_pronosticos['Timestamp_Pronostico'].dt.hour\n",
    "df_pronosticos['dayofweek'] = df_pronosticos['Timestamp_Pronostico'].dt.dayofweek\n",
    "df_pronosticos['dayofyear'] = df_pronosticos['Timestamp_Pronostico'].dt.dayofyear\n",
    "\n",
    "df_pronosticos['hour_sin'] = np.sin(2 * np.pi * df_pronosticos['hour'] / 24)\n",
    "df_pronosticos['hour_cos'] = np.cos(2 * np.pi * df_pronosticos['hour'] / 24)\n",
    "df_pronosticos['dayofweek_sin'] = np.sin(2 * np.pi * df_pronosticos['dayofweek'] / 7)\n",
    "df_pronosticos['dayofweek_cos'] = np.cos(2 * np.pi * df_pronosticos['dayofweek'] / 7)\n",
    "df_pronosticos['dayofyear_sin'] = np.sin(2 * np.pi * df_pronosticos['dayofyear'] / 365)\n",
    "df_pronosticos['dayofyear_cos'] = np.cos(2 * np.pi * df_pronosticos['dayofyear'] / 365)\n",
    "\n",
    "df_pronosticos['WDIR_sin'] = np.sin(np.deg2rad(df_pronosticos['WDIR']))\n",
    "df_pronosticos['WDIR_cos'] = np.cos(np.deg2rad(df_pronosticos['WDIR']))\n",
    "\n",
    "feature_cols = [\n",
    "    'TEMP', 'WSPD', 'WDIR_sin', 'WDIR_cos', 'CO(CENTRO)', 'SO2(CENTRO)',\n",
    "    'hour_sin', 'hour_cos', 'dayofweek_sin', 'dayofweek_cos', 'dayofyear_sin', 'dayofyear_cos',\n",
    "    'TEMP_WSPD', 'CO_TEMP', 'CO_SO2'\n",
    "]\n"
   ]
  }
 ],
 "metadata": {},
 "nbformat": 4,
 "nbformat_minor": 5
}
